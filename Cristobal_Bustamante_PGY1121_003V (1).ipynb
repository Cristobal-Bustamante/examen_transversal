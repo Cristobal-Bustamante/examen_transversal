{
  "nbformat": 4,
  "nbformat_minor": 0,
  "metadata": {
    "colab": {
      "provenance": []
    },
    "kernelspec": {
      "name": "python3",
      "display_name": "Python 3"
    },
    "language_info": {
      "name": "python"
    }
  },
  "cells": [
    {
      "cell_type": "code",
      "execution_count": 1,
      "metadata": {
        "id": "ikGFdoVbB7TD"
      },
      "outputs": [],
      "source": [
        "import numpy as np"
      ]
    },
    {
      "cell_type": "code",
      "source": [
        "platinum = 120000\n",
        "gold = 80000\n",
        "silver = 50000\n",
        "\n",
        "contador_platinum = 0\n",
        "contador_gold = 0\n",
        "contador_silver = 0\n",
        "\n",
        "asientos_disponibles =np.array ([[1,2,3,4,5,6,7,8,9,10],[11,12,13,14,15,16,17,18,19,20],[21,22,23,24,25,26,27,28,29,30],[31,32,33,34,35,36,37,38,39,40],[41,42,43,44,45,46,47,48,49,50],[51,52,53,54,55,56,57,58,59,60],[61,62,63,64,65,66,67,68,69,70],[71,72,73,74,75,76,77,78,79,80],[81,82,83,84,85,86,87,88,89,90],[91,92,93,94,95,96,97,98,99,100]],dtype = object)\n",
        "asientos_reservados = []\n",
        "asistentes = []\n"
      ],
      "metadata": {
        "id": "jMDb88ivD0cr"
      },
      "execution_count": 2,
      "outputs": []
    },
    {
      "cell_type": "code",
      "source": [
        "def comprar_entradas():\n",
        "  global contador_platinum,contador_gold,contador_silver,asientos_disponibles,asientos_reservados,asistentes\n",
        "  print('-----Valor entradas-----')\n",
        "  print('platinum  $120.000 (asientos del 1 al 20)')\n",
        "  print('Gold $80.000 (asientos del 21 al 50)')\n",
        "  print('Silver $50.000 (asientos de 51 al 100)')\n",
        "  while True:\n",
        "    cantidad_asientos = int(input('ingrese la cantidad de asientos que desea comprar (de 1 a 3): '))\n",
        "    if cantidad_asientos >= 1 and cantidad_asientos <= 3:\n",
        "      break\n",
        "    else:\n",
        "      print('debe ingresar un valor entre 1 y 3')\n",
        "  print(f'los asientos disponibles son: ')\n",
        "  print(asientos_disponibles)\n",
        "  print('-'*50)\n",
        "  i = 0\n",
        "  for i in range(cantidad_asientos):\n",
        "    asiento = int(input(f'ingrese el asiento N°{i+1} que desea comprar: '))\n",
        "    if asiento >=1 and asiento <=20:\n",
        "      contador_platinum += 1\n",
        "      np.delete(asientos_disponibles, asiento - 1,)\n",
        "      asientos_reservados.append(asiento)\n",
        "      i += 1\n",
        "\n",
        "    elif asiento >=21 and asiento <=50:\n",
        "      contador_gold += 1\n",
        "      np.delete(asientos_disponibles, asiento - 1,)\n",
        "      asientos_reservados.append(asiento)\n",
        "      i += 1\n",
        "\n",
        "    elif asiento >=51 and asiento <=100:\n",
        "      contador_silver += 1\n",
        "      np.delete(asientos_disponibles, asiento - 1,)\n",
        "      asientos_reservados.append(asiento)\n",
        "      i += 1\n",
        "  try:\n",
        "    while True:\n",
        "      rut = int(input('Ingrese su rut (sin puntos, ni digito verfificador): '))\n",
        "      if len(str(rut)) == 8:\n",
        "        break\n",
        "      else:\n",
        "        print('debe ingresar solo 8 caracteres')\n",
        "    asistentes.append(rut)\n",
        "    print('operaciones realizada correctamente')\n",
        "  except:\n",
        "    print('solo debe ingresar numeros')"
      ],
      "metadata": {
        "id": "iNCpQ008O9LR"
      },
      "execution_count": 14,
      "outputs": []
    },
    {
      "cell_type": "code",
      "source": [
        "def mostrar_ubicaciones_disponibles():\n",
        "  global asientos_disponibles\n",
        "  print('*'*30)\n",
        "  print('ubicaciones disponibles')\n",
        "  print(asientos_disponibles)"
      ],
      "metadata": {
        "id": "izowm1QZlvAN"
      },
      "execution_count": 4,
      "outputs": []
    },
    {
      "cell_type": "code",
      "source": [
        "def listado_asistentes():\n",
        "  global lista_asistentes\n",
        "  print('*'*30)\n",
        "  print('asistentes')\n",
        "  print(asistentes)"
      ],
      "metadata": {
        "id": "Qzejg3hHTGS3"
      },
      "execution_count": 5,
      "outputs": []
    },
    {
      "cell_type": "code",
      "source": [
        "def ganancias_totales():\n",
        "  global contador_platinum,contador_gold,contador_silver,platinum,gold,silver\n",
        "  total_platinum = 120000 * contador_platinum\n",
        "  total_gold = 80000 * contador_gold\n",
        "  total_silver = 50000 * contador_silver\n",
        "  print(f'platinum ${platinum}, cantidad = {contador_platinum}, total = {total_platinum}')\n",
        "  print(f'gold ${gold}, cantidad = {contador_gold}, total = {total_gold}')\n",
        "  print(f'silver ${silver}, cantidad = {contador_silver}, total = {total_silver}')"
      ],
      "metadata": {
        "id": "8f3Ql4KLTI_H"
      },
      "execution_count": 6,
      "outputs": []
    },
    {
      "cell_type": "code",
      "source": [
        "def salir():\n",
        "  print('gracias por preferir creativos.cl')\n",
        "  print('Cristobal Bustamante')\n",
        "  print('11/07/2023')"
      ],
      "metadata": {
        "id": "4Y8r1IrxTXI4"
      },
      "execution_count": 7,
      "outputs": []
    },
    {
      "cell_type": "code",
      "source": [
        "def menu():\n",
        "\n",
        "  while True:\n",
        "    try:\n",
        "      print('------ Menu ------')\n",
        "      print('1. comprar entradas')\n",
        "      print('2. mostrar ubicaciones disponibles')\n",
        "      print('3. mostrar asisitentes')\n",
        "      print('4. mostrar ganancias totales')\n",
        "      print('5. salir')\n",
        "\n",
        "\n",
        "      opcion = int(input('Seleccione una opcion: '))\n",
        "\n",
        "      if opcion == 1:\n",
        "        comprar_entradas()\n",
        "      elif opcion == 2:\n",
        "        mostrar_ubicaciones_disponibles()\n",
        "      elif opcion == 3:\n",
        "        listado_asistentes()\n",
        "      elif opcion == 4:\n",
        "        ganancias_totales()\n",
        "      elif opcion == 5:\n",
        "        salir()\n",
        "        break\n",
        "      else:\n",
        "        print('Opcion invalida, vuelva a seleccionar')\n",
        "        print(50*'*')\n",
        "    except ValueError:\n",
        "      print('error ----> debe ingresar solo numeros')\n",
        "      print(50 * '*')"
      ],
      "metadata": {
        "id": "t3HgJwbOErUb"
      },
      "execution_count": 9,
      "outputs": []
    },
    {
      "cell_type": "code",
      "source": [
        "try:\n",
        "  menu()\n",
        "except KeyboardInterrupt:\n",
        "  print('usted a interruptido el programa manualmente')"
      ],
      "metadata": {
        "id": "4C26ndnujBUv",
        "colab": {
          "base_uri": "https://localhost:8080/"
        },
        "outputId": "12041227-d3f1-4ef3-eeab-63fdd1599ae3"
      },
      "execution_count": 15,
      "outputs": [
        {
          "output_type": "stream",
          "name": "stdout",
          "text": [
            "------ Menu ------\n",
            "1. comprar entradas\n",
            "2. mostrar ubicaciones disponibles\n",
            "3. mostrar asisitentes\n",
            "4. mostrar ganancias totales\n",
            "5. salir\n",
            "Seleccione una opcion: 1\n",
            "-----Valor entradas-----\n",
            "platinum  $120.000 (asientos del 1 al 20)\n",
            "Gold $80.000 (asientos del 21 al 50)\n",
            "Silver $50.000 (asientos de 51 al 100)\n",
            "ingrese la cantidad de asientos que desea comprar (de 1 a 3): 1\n",
            "los asientos disponibles son: \n",
            "[[1 2 3 4 5 6 7 8 9 10]\n",
            " [11 12 13 14 15 16 17 18 19 20]\n",
            " [21 22 23 24 25 26 27 28 29 30]\n",
            " [31 32 33 34 35 36 37 38 39 40]\n",
            " [41 42 43 44 45 46 47 48 49 50]\n",
            " [51 52 53 54 55 56 57 58 59 60]\n",
            " [61 62 63 64 65 66 67 68 69 70]\n",
            " [71 72 73 74 75 76 77 78 79 80]\n",
            " [81 82 83 84 85 86 87 88 89 90]\n",
            " [91 92 93 94 95 96 97 98 99 100]]\n",
            "--------------------------------------------------\n",
            "ingrese el asiento N°1 que desea comprar: 1\n",
            "Ingrese su rut (sin puntos, ni digito verfificador): 20379176\n",
            "operaciones realizada correctamente\n",
            "------ Menu ------\n",
            "1. comprar entradas\n",
            "2. mostrar ubicaciones disponibles\n",
            "3. mostrar asisitentes\n",
            "4. mostrar ganancias totales\n",
            "5. salir\n",
            "Seleccione una opcion: 2\n",
            "******************************\n",
            "ubicaciones disponibles\n",
            "[[1 2 3 4 5 6 7 8 9 10]\n",
            " [11 12 13 14 15 16 17 18 19 20]\n",
            " [21 22 23 24 25 26 27 28 29 30]\n",
            " [31 32 33 34 35 36 37 38 39 40]\n",
            " [41 42 43 44 45 46 47 48 49 50]\n",
            " [51 52 53 54 55 56 57 58 59 60]\n",
            " [61 62 63 64 65 66 67 68 69 70]\n",
            " [71 72 73 74 75 76 77 78 79 80]\n",
            " [81 82 83 84 85 86 87 88 89 90]\n",
            " [91 92 93 94 95 96 97 98 99 100]]\n",
            "------ Menu ------\n",
            "1. comprar entradas\n",
            "2. mostrar ubicaciones disponibles\n",
            "3. mostrar asisitentes\n",
            "4. mostrar ganancias totales\n",
            "5. salir\n",
            "usted a interruptido el programa manualmente\n"
          ]
        }
      ]
    }
  ]
}